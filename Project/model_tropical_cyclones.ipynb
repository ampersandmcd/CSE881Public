{
 "cells": [
  {
   "cell_type": "markdown",
   "source": [
    "# Predicting Tropical Cyclone Severity: A CV-Based Approach\n",
    "#### Using satellite imagery to predict maximum sustained wind speeds of tropical cyclones\n",
    "#### Data Modeling\n",
    "\n",
    "In this notebook, we construct and fine-tune a variety of pre-trained `torchvision` models using the `pytorch-lightning` wrapper. All data is available [here](https://www.drivendata.org/competitions/72/predict-wind-speeds/). We draw inspiration from [this notebook](https://github.com/radiantearth/mlhub-tutorials/blob/main/notebooks/NASA%20Tropical%20Storm%20Wind%20Speed%20Challenge/nasa-tropical-storm-wind-speed-challenge-benchmark.ipynb).\n",
    "\n",
    "\n",
    "Andrew McDonald // CSE 881 // April 2021"
   ],
   "metadata": {
    "collapsed": false
   }
  },
  {
   "cell_type": "code",
   "execution_count": 1,
   "outputs": [],
   "source": [
    "import os\n",
    "import time\n",
    "import numpy as np\n",
    "import pandas as pd\n",
    "import matplotlib.pyplot as plt\n",
    "import torch\n",
    "import pytorch_lightning as pl\n",
    "import torchvision.models as models\n",
    "\n",
    "from abc import abstractmethod\n",
    "from datetime import datetime\n",
    "from PIL import Image\n",
    "from pathlib import Path\n",
    "from torch import nn\n",
    "from torch.utils.data import Dataset, DataLoader\n",
    "from torchvision import transforms\n",
    "from pytorch_lightning.loggers import TensorBoardLogger\n",
    "from sklearn.model_selection import train_test_split\n",
    "from sklearn.metrics import mean_squared_error, mean_absolute_error\n",
    "from scipy.stats import pearsonr\n",
    "from tqdm.notebook import tqdm\n",
    "\n",
    "# nb_mode = \"fit\"\n",
    "nb_mode = \"eval\"\n",
    "os.environ[\"TORCH_HOME\"] = str(Path.cwd() / \"models\")\n",
    "PATH = {\n",
    "    \"metadata\": Path.cwd() / \"nasa_tropical_storm_competition_csvs\",\n",
    "    \"train\": Path.cwd() / \"nasa_tropical_storm_competition_train_source\",\n",
    "    \"test\": Path.cwd() / \"nasa_tropical_storm_competition_test_source\"\n",
    "}"
   ],
   "metadata": {
    "collapsed": false,
    "pycharm": {
     "name": "#%%\n"
    }
   }
  },
  {
   "cell_type": "markdown",
   "source": [
    "#### Load Datasets\n",
    "\n",
    "See data exploration notebook for more on dataset construction and structure."
   ],
   "metadata": {
    "collapsed": false
   }
  },
  {
   "cell_type": "code",
   "execution_count": 2,
   "outputs": [
    {
     "data": {
      "text/plain": "      image_id storm_id  relative_time  ocean  wind_speed  \\\n0      nhe_000      nhe              0      2          34   \n1      nhe_001      nhe           1800      2          34   \n2      nhe_002      nhe           3600      2          34   \n3      nhe_003      nhe           5402      2          33   \n4      nhe_004      nhe           9001      2          32   \n...        ...      ...            ...    ...         ...   \n70252  yti_071      yti         255601      1          45   \n70253  yti_072      yti         259201      1          45   \n70254  yti_073      yti         262801      1          45   \n70255  yti_074      yti         266401      1          45   \n70256  yti_075      yti         270001      1          45   \n\n                                              image_path  \\\n0      nasa_tropical_storm_competition_train_source_n...   \n1      nasa_tropical_storm_competition_train_source_n...   \n2      nasa_tropical_storm_competition_train_source_n...   \n3      nasa_tropical_storm_competition_train_source_n...   \n4      nasa_tropical_storm_competition_train_source_n...   \n...                                                  ...   \n70252  nasa_tropical_storm_competition_train_source_y...   \n70253  nasa_tropical_storm_competition_train_source_y...   \n70254  nasa_tropical_storm_competition_train_source_y...   \n70255  nasa_tropical_storm_competition_train_source_y...   \n70256  nasa_tropical_storm_competition_train_source_y...   \n\n                                                filename  \n0      D:\\Documents\\MSU\\SS21\\CSE 881\\Project\\nasa_tro...  \n1      D:\\Documents\\MSU\\SS21\\CSE 881\\Project\\nasa_tro...  \n2      D:\\Documents\\MSU\\SS21\\CSE 881\\Project\\nasa_tro...  \n3      D:\\Documents\\MSU\\SS21\\CSE 881\\Project\\nasa_tro...  \n4      D:\\Documents\\MSU\\SS21\\CSE 881\\Project\\nasa_tro...  \n...                                                  ...  \n70252  D:\\Documents\\MSU\\SS21\\CSE 881\\Project\\nasa_tro...  \n70253  D:\\Documents\\MSU\\SS21\\CSE 881\\Project\\nasa_tro...  \n70254  D:\\Documents\\MSU\\SS21\\CSE 881\\Project\\nasa_tro...  \n70255  D:\\Documents\\MSU\\SS21\\CSE 881\\Project\\nasa_tro...  \n70256  D:\\Documents\\MSU\\SS21\\CSE 881\\Project\\nasa_tro...  \n\n[70257 rows x 7 columns]",
      "text/html": "<div>\n<style scoped>\n    .dataframe tbody tr th:only-of-type {\n        vertical-align: middle;\n    }\n\n    .dataframe tbody tr th {\n        vertical-align: top;\n    }\n\n    .dataframe thead th {\n        text-align: right;\n    }\n</style>\n<table border=\"1\" class=\"dataframe\">\n  <thead>\n    <tr style=\"text-align: right;\">\n      <th></th>\n      <th>image_id</th>\n      <th>storm_id</th>\n      <th>relative_time</th>\n      <th>ocean</th>\n      <th>wind_speed</th>\n      <th>image_path</th>\n      <th>filename</th>\n    </tr>\n  </thead>\n  <tbody>\n    <tr>\n      <th>0</th>\n      <td>nhe_000</td>\n      <td>nhe</td>\n      <td>0</td>\n      <td>2</td>\n      <td>34</td>\n      <td>nasa_tropical_storm_competition_train_source_n...</td>\n      <td>D:\\Documents\\MSU\\SS21\\CSE 881\\Project\\nasa_tro...</td>\n    </tr>\n    <tr>\n      <th>1</th>\n      <td>nhe_001</td>\n      <td>nhe</td>\n      <td>1800</td>\n      <td>2</td>\n      <td>34</td>\n      <td>nasa_tropical_storm_competition_train_source_n...</td>\n      <td>D:\\Documents\\MSU\\SS21\\CSE 881\\Project\\nasa_tro...</td>\n    </tr>\n    <tr>\n      <th>2</th>\n      <td>nhe_002</td>\n      <td>nhe</td>\n      <td>3600</td>\n      <td>2</td>\n      <td>34</td>\n      <td>nasa_tropical_storm_competition_train_source_n...</td>\n      <td>D:\\Documents\\MSU\\SS21\\CSE 881\\Project\\nasa_tro...</td>\n    </tr>\n    <tr>\n      <th>3</th>\n      <td>nhe_003</td>\n      <td>nhe</td>\n      <td>5402</td>\n      <td>2</td>\n      <td>33</td>\n      <td>nasa_tropical_storm_competition_train_source_n...</td>\n      <td>D:\\Documents\\MSU\\SS21\\CSE 881\\Project\\nasa_tro...</td>\n    </tr>\n    <tr>\n      <th>4</th>\n      <td>nhe_004</td>\n      <td>nhe</td>\n      <td>9001</td>\n      <td>2</td>\n      <td>32</td>\n      <td>nasa_tropical_storm_competition_train_source_n...</td>\n      <td>D:\\Documents\\MSU\\SS21\\CSE 881\\Project\\nasa_tro...</td>\n    </tr>\n    <tr>\n      <th>...</th>\n      <td>...</td>\n      <td>...</td>\n      <td>...</td>\n      <td>...</td>\n      <td>...</td>\n      <td>...</td>\n      <td>...</td>\n    </tr>\n    <tr>\n      <th>70252</th>\n      <td>yti_071</td>\n      <td>yti</td>\n      <td>255601</td>\n      <td>1</td>\n      <td>45</td>\n      <td>nasa_tropical_storm_competition_train_source_y...</td>\n      <td>D:\\Documents\\MSU\\SS21\\CSE 881\\Project\\nasa_tro...</td>\n    </tr>\n    <tr>\n      <th>70253</th>\n      <td>yti_072</td>\n      <td>yti</td>\n      <td>259201</td>\n      <td>1</td>\n      <td>45</td>\n      <td>nasa_tropical_storm_competition_train_source_y...</td>\n      <td>D:\\Documents\\MSU\\SS21\\CSE 881\\Project\\nasa_tro...</td>\n    </tr>\n    <tr>\n      <th>70254</th>\n      <td>yti_073</td>\n      <td>yti</td>\n      <td>262801</td>\n      <td>1</td>\n      <td>45</td>\n      <td>nasa_tropical_storm_competition_train_source_y...</td>\n      <td>D:\\Documents\\MSU\\SS21\\CSE 881\\Project\\nasa_tro...</td>\n    </tr>\n    <tr>\n      <th>70255</th>\n      <td>yti_074</td>\n      <td>yti</td>\n      <td>266401</td>\n      <td>1</td>\n      <td>45</td>\n      <td>nasa_tropical_storm_competition_train_source_y...</td>\n      <td>D:\\Documents\\MSU\\SS21\\CSE 881\\Project\\nasa_tro...</td>\n    </tr>\n    <tr>\n      <th>70256</th>\n      <td>yti_075</td>\n      <td>yti</td>\n      <td>270001</td>\n      <td>1</td>\n      <td>45</td>\n      <td>nasa_tropical_storm_competition_train_source_y...</td>\n      <td>D:\\Documents\\MSU\\SS21\\CSE 881\\Project\\nasa_tro...</td>\n    </tr>\n  </tbody>\n</table>\n<p>70257 rows × 7 columns</p>\n</div>"
     },
     "execution_count": 2,
     "metadata": {},
     "output_type": "execute_result"
    }
   ],
   "source": [
    "features = pd.read_csv(PATH[\"metadata\"] / \"training_set_features.csv\")\n",
    "labels = pd.read_csv(PATH[\"metadata\"] / \"training_set_labels.csv\")\n",
    "data = pd.merge(features, labels, on=\"Image ID\")\n",
    "data.columns = [s.replace(\" \", \"_\").lower() for s in data.columns]\n",
    "data[\"image_path\"] = \"nasa_tropical_storm_competition_train_source_\" + data[\"image_id\"]\n",
    "data[\"filename\"] = PATH[\"train\"] / data[\"image_path\"] / \"image.jpg\"\n",
    "data"
   ],
   "metadata": {
    "collapsed": false,
    "pycharm": {
     "name": "#%%\n"
    }
   }
  },
  {
   "cell_type": "markdown",
   "source": [
    "#### Build Training / Validation Data\n",
    "\n",
    "Build train/val split with fixed random seed, then downsample for computational constraints."
   ],
   "metadata": {
    "collapsed": false,
    "pycharm": {
     "name": "#%% md\n"
    }
   }
  },
  {
   "cell_type": "code",
   "execution_count": 3,
   "outputs": [
    {
     "data": {
      "text/plain": "((56205, 7), (14052, 7))"
     },
     "execution_count": 3,
     "metadata": {},
     "output_type": "execute_result"
    }
   ],
   "source": [
    "full_train, full_val = train_test_split(data, test_size=0.2, random_state=881)\n",
    "full_train.shape, full_val.shape"
   ],
   "metadata": {
    "collapsed": false,
    "pycharm": {
     "name": "#%%\n"
    }
   }
  },
  {
   "cell_type": "code",
   "execution_count": 4,
   "outputs": [
    {
     "data": {
      "text/plain": "((10000, 7), (1000, 7))"
     },
     "execution_count": 4,
     "metadata": {},
     "output_type": "execute_result"
    }
   ],
   "source": [
    "train = full_train.sample(n=10000, replace=False, random_state=881)\n",
    "val = full_val.sample(n=1000, replace=False, random_state=881)\n",
    "train.shape, val.shape"
   ],
   "metadata": {
    "collapsed": false,
    "pycharm": {
     "name": "#%%\n"
    }
   }
  },
  {
   "cell_type": "code",
   "execution_count": 5,
   "outputs": [],
   "source": [
    "X_train, X_val = train.drop(\"wind_speed\", axis=1), val.drop(\"wind_speed\", axis=1)\n",
    "y_train, y_val = train[\"wind_speed\"], val[\"wind_speed\"]"
   ],
   "metadata": {
    "collapsed": false,
    "pycharm": {
     "name": "#%%\n"
    }
   }
  },
  {
   "cell_type": "markdown",
   "source": [
    "#### Build Testing Data\n",
    "\n",
    "Downsample test set with fixed random seed for computational constraints."
   ],
   "metadata": {
    "collapsed": false
   }
  },
  {
   "cell_type": "code",
   "execution_count": 6,
   "outputs": [],
   "source": [
    "full_test_features = pd.read_csv(PATH[\"metadata\"] / \"test_set_features.csv\")\n",
    "full_test_features.columns = [s.replace(\" \", \"_\").lower() for s in full_test_features.columns]\n",
    "full_test_labels = pd.read_csv(PATH[\"metadata\"] / \"test_set_labels.csv\")\n",
    "full_test_labels.columns = [s.replace(\" \", \"_\").lower() for s in full_test_labels.columns]"
   ],
   "metadata": {
    "collapsed": false,
    "pycharm": {
     "name": "#%%\n"
    }
   }
  },
  {
   "cell_type": "code",
   "execution_count": 7,
   "outputs": [
    {
     "data": {
      "text/plain": "      image_id storm_id  relative_time  ocean\n2500   lhc_110      lhc         919800      2\n39604  spo_001      spo           1800      1\n30053  cwf_028      cwf          64800      1\n13027  zsh_001      zsh           1800      2\n13540  whs_106      whs         284399      2\n...        ...      ...            ...    ...\n20301  rzk_206      rzk         579601      1\n20753  tbs_105      tbs         226802      1\n16561  fmv_076      fmv         165600      1\n9042   zez_026      zez          57599      2\n42592  ftp_164      ftp         597595      1\n\n[1000 rows x 4 columns]",
      "text/html": "<div>\n<style scoped>\n    .dataframe tbody tr th:only-of-type {\n        vertical-align: middle;\n    }\n\n    .dataframe tbody tr th {\n        vertical-align: top;\n    }\n\n    .dataframe thead th {\n        text-align: right;\n    }\n</style>\n<table border=\"1\" class=\"dataframe\">\n  <thead>\n    <tr style=\"text-align: right;\">\n      <th></th>\n      <th>image_id</th>\n      <th>storm_id</th>\n      <th>relative_time</th>\n      <th>ocean</th>\n    </tr>\n  </thead>\n  <tbody>\n    <tr>\n      <th>2500</th>\n      <td>lhc_110</td>\n      <td>lhc</td>\n      <td>919800</td>\n      <td>2</td>\n    </tr>\n    <tr>\n      <th>39604</th>\n      <td>spo_001</td>\n      <td>spo</td>\n      <td>1800</td>\n      <td>1</td>\n    </tr>\n    <tr>\n      <th>30053</th>\n      <td>cwf_028</td>\n      <td>cwf</td>\n      <td>64800</td>\n      <td>1</td>\n    </tr>\n    <tr>\n      <th>13027</th>\n      <td>zsh_001</td>\n      <td>zsh</td>\n      <td>1800</td>\n      <td>2</td>\n    </tr>\n    <tr>\n      <th>13540</th>\n      <td>whs_106</td>\n      <td>whs</td>\n      <td>284399</td>\n      <td>2</td>\n    </tr>\n    <tr>\n      <th>...</th>\n      <td>...</td>\n      <td>...</td>\n      <td>...</td>\n      <td>...</td>\n    </tr>\n    <tr>\n      <th>20301</th>\n      <td>rzk_206</td>\n      <td>rzk</td>\n      <td>579601</td>\n      <td>1</td>\n    </tr>\n    <tr>\n      <th>20753</th>\n      <td>tbs_105</td>\n      <td>tbs</td>\n      <td>226802</td>\n      <td>1</td>\n    </tr>\n    <tr>\n      <th>16561</th>\n      <td>fmv_076</td>\n      <td>fmv</td>\n      <td>165600</td>\n      <td>1</td>\n    </tr>\n    <tr>\n      <th>9042</th>\n      <td>zez_026</td>\n      <td>zez</td>\n      <td>57599</td>\n      <td>2</td>\n    </tr>\n    <tr>\n      <th>42592</th>\n      <td>ftp_164</td>\n      <td>ftp</td>\n      <td>597595</td>\n      <td>1</td>\n    </tr>\n  </tbody>\n</table>\n<p>1000 rows × 4 columns</p>\n</div>"
     },
     "metadata": {},
     "output_type": "display_data"
    },
    {
     "data": {
      "text/plain": "      image_id  wind_speed\n2500   lhc_110          83\n39604  spo_001          30\n30053  cwf_028          70\n13027  zsh_001          26\n13540  whs_106          45\n...        ...         ...\n20301  rzk_206          25\n20753  tbs_105         101\n16561  fmv_076         104\n9042   zez_026          61\n42592  ftp_164          20\n\n[1000 rows x 2 columns]",
      "text/html": "<div>\n<style scoped>\n    .dataframe tbody tr th:only-of-type {\n        vertical-align: middle;\n    }\n\n    .dataframe tbody tr th {\n        vertical-align: top;\n    }\n\n    .dataframe thead th {\n        text-align: right;\n    }\n</style>\n<table border=\"1\" class=\"dataframe\">\n  <thead>\n    <tr style=\"text-align: right;\">\n      <th></th>\n      <th>image_id</th>\n      <th>wind_speed</th>\n    </tr>\n  </thead>\n  <tbody>\n    <tr>\n      <th>2500</th>\n      <td>lhc_110</td>\n      <td>83</td>\n    </tr>\n    <tr>\n      <th>39604</th>\n      <td>spo_001</td>\n      <td>30</td>\n    </tr>\n    <tr>\n      <th>30053</th>\n      <td>cwf_028</td>\n      <td>70</td>\n    </tr>\n    <tr>\n      <th>13027</th>\n      <td>zsh_001</td>\n      <td>26</td>\n    </tr>\n    <tr>\n      <th>13540</th>\n      <td>whs_106</td>\n      <td>45</td>\n    </tr>\n    <tr>\n      <th>...</th>\n      <td>...</td>\n      <td>...</td>\n    </tr>\n    <tr>\n      <th>20301</th>\n      <td>rzk_206</td>\n      <td>25</td>\n    </tr>\n    <tr>\n      <th>20753</th>\n      <td>tbs_105</td>\n      <td>101</td>\n    </tr>\n    <tr>\n      <th>16561</th>\n      <td>fmv_076</td>\n      <td>104</td>\n    </tr>\n    <tr>\n      <th>9042</th>\n      <td>zez_026</td>\n      <td>61</td>\n    </tr>\n    <tr>\n      <th>42592</th>\n      <td>ftp_164</td>\n      <td>20</td>\n    </tr>\n  </tbody>\n</table>\n<p>1000 rows × 2 columns</p>\n</div>"
     },
     "metadata": {},
     "output_type": "display_data"
    }
   ],
   "source": [
    "test_features = full_test_features.sample(n=1000, replace=False, random_state=881)\n",
    "test_labels = full_test_labels.loc[test_features.index, :]\n",
    "display(test_features)\n",
    "display(test_labels)"
   ],
   "metadata": {
    "collapsed": false,
    "pycharm": {
     "name": "#%%\n"
    }
   }
  },
  {
   "cell_type": "code",
   "execution_count": 8,
   "outputs": [
    {
     "data": {
      "text/plain": "     image_id storm_id  relative_time  ocean  \\\n2500  lhc_110      lhc         919800      2   \n\n                                             image_path  \\\n2500  nasa_tropical_storm_competition_test_source_lh...   \n\n                                               filename  \n2500  D:\\Documents\\MSU\\SS21\\CSE 881\\Project\\nasa_tro...  ",
      "text/html": "<div>\n<style scoped>\n    .dataframe tbody tr th:only-of-type {\n        vertical-align: middle;\n    }\n\n    .dataframe tbody tr th {\n        vertical-align: top;\n    }\n\n    .dataframe thead th {\n        text-align: right;\n    }\n</style>\n<table border=\"1\" class=\"dataframe\">\n  <thead>\n    <tr style=\"text-align: right;\">\n      <th></th>\n      <th>image_id</th>\n      <th>storm_id</th>\n      <th>relative_time</th>\n      <th>ocean</th>\n      <th>image_path</th>\n      <th>filename</th>\n    </tr>\n  </thead>\n  <tbody>\n    <tr>\n      <th>2500</th>\n      <td>lhc_110</td>\n      <td>lhc</td>\n      <td>919800</td>\n      <td>2</td>\n      <td>nasa_tropical_storm_competition_test_source_lh...</td>\n      <td>D:\\Documents\\MSU\\SS21\\CSE 881\\Project\\nasa_tro...</td>\n    </tr>\n  </tbody>\n</table>\n</div>"
     },
     "execution_count": 8,
     "metadata": {},
     "output_type": "execute_result"
    }
   ],
   "source": [
    "test_features[\"image_path\"] = \"nasa_tropical_storm_competition_test_source_\" + test_features[\"image_id\"]\n",
    "test_features[\"filename\"] = PATH[\"test\"] / test_features[\"image_path\"] / \"image.jpg\"\n",
    "test_features.head(1)"
   ],
   "metadata": {
    "collapsed": false,
    "pycharm": {
     "name": "#%%\n"
    }
   }
  },
  {
   "cell_type": "markdown",
   "source": [
    "#### Build Torch Dataset Class\n",
    "\n",
    "Overriding the `torch.utils.data.Dataset` base class will allow us to use the `torch.utils.data.DataLoader` later on. We draw inspiration from [this tutorial](https://pytorch.org/tutorials/beginner/data_loading_tutorial.html)."
   ],
   "metadata": {
    "collapsed": false,
    "pycharm": {
     "name": "#%% md\n"
    }
   }
  },
  {
   "cell_type": "code",
   "execution_count": 9,
   "outputs": [],
   "source": [
    "class DatasetTS(Dataset):\n",
    "    \"\"\"\n",
    "    Override the torch Dataset base class to serve tropical storm images on-demand.\n",
    "    Transform images to shape and normalization expected by pretrained models.\n",
    "    Implement the __len__ and __getitem__ functions.\n",
    "    \"\"\"\n",
    "    def __init__(self, X, y=None):\n",
    "        self.X = X\n",
    "        self.y = y      # optional, not necessary if test set\n",
    "        # pretrained models expect 224x224 @ given normalization\n",
    "        # https://discuss.pytorch.org/t/imagenet-pretrained-models-image-dimensions/94649/4\n",
    "        # https://pytorch.org/vision/stable/models.html\n",
    "        self.transform = transforms.Compose([\n",
    "            transforms.CenterCrop(224),\n",
    "            transforms.ToTensor(),\n",
    "            transforms.Normalize(mean=[0.485, 0.456, 0.406],\n",
    "                                 std=[0.229, 0.224, 0.225])\n",
    "        ])\n",
    "\n",
    "    def __len__(self):\n",
    "        return len(self.X)\n",
    "\n",
    "    def __getitem__(self, i):\n",
    "        img = self.transform(Image.open(self.X.iloc[i][\"filename\"]).convert(\"RGB\"))\n",
    "        img_id = self.X.iloc[i][\"image_id\"]\n",
    "        if self.y is not None:\n",
    "            return {\"image_id\": img_id, \"image\": img, \"label\": self.y.iloc[i]}      # training\n",
    "        return {\"image_id\": img_id, \"image\": img}                                   # testing"
   ],
   "metadata": {
    "collapsed": false,
    "pycharm": {
     "name": "#%%\n"
    }
   }
  },
  {
   "cell_type": "markdown",
   "source": [
    "#### Build Torch RMSE Class\n",
    "\n",
    "Override the built-in `MSELoss` class as a `torch.nn.Module` to report RMSE, a more interpretable metric when it comes to wind speeds."
   ],
   "metadata": {
    "collapsed": false,
    "pycharm": {
     "name": "#%% md\n"
    }
   }
  },
  {
   "cell_type": "code",
   "execution_count": 10,
   "outputs": [],
   "source": [
    "class RMSELoss(nn.Module):\n",
    "    \"\"\"\n",
    "    Override built-in MSELoss to report RMSE, a more interpretable metric.\n",
    "    \"\"\"\n",
    "    def __init__(self):\n",
    "        super(RMSELoss, self).__init__()\n",
    "        self.mse = nn.MSELoss()\n",
    "\n",
    "    def forward(self, y_hat, y_true):\n",
    "        return torch.sqrt(self.mse(y_hat, y_true))"
   ],
   "metadata": {
    "collapsed": false,
    "pycharm": {
     "name": "#%%\n"
    }
   }
  },
  {
   "cell_type": "markdown",
   "source": [
    "#### Build PyTorch Model with Torch Lightning\n",
    "\n",
    "Utilize `pytorch-lightning` library to simplify and organize model logic. First, define an abstract base class with pipeline logic, leaving all but model architecture defined. Then, extend base class with specific pretrained model architectures.\n",
    "\n",
    "Due to computational constraints, we limit consideration to small architectures. In particular, we fine-tune:\n",
    "- [SqueezeNet 1.1](https://pytorch.org/vision/stable/models.html#torchvision.models.squeezenet1_1) (4.9 mb)\n",
    "- [ShuffleNet v2 1.0x](https://pytorch.org/vision/stable/models.html#torchvision.models.shufflenet_v2_x1_0) (9.0 mb)\n",
    "- [ResNet-18](https://pytorch.org/vision/stable/models.html#torchvision.models.resnet18) (45.7 mb, fast to train due to residual connections)\n",
    "\n",
    "We encourage future GPU-enabled research on larger networks known to perform well, such as [VGG](https://pytorch.org/vision/stable/models.html#id2) or deeper implementations of [ResNet](https://pytorch.org/vision/stable/models.html#id3)."
   ],
   "metadata": {
    "collapsed": false,
    "pycharm": {
     "name": "#%% md\n"
    }
   }
  },
  {
   "cell_type": "code",
   "execution_count": 11,
   "outputs": [],
   "source": [
    "class TSNet(pl.LightningModule):\n",
    "    \"\"\"\n",
    "    Adapt a pretrained torchvision model for use in tropical storm wind severity prediction.\n",
    "    Extend the pl.LightningModule base class to simplify and organize model logic.\n",
    "    Abstract class to be overriden by subclass specifying model architecture.\n",
    "    \"\"\"\n",
    "    def __init__(self, hyp):\n",
    "        super(TSNet, self).__init__()\n",
    "        self.hyp = hyp\n",
    "\n",
    "        # set required hyperparameters\n",
    "        self.X_train = hyp[\"X_train\"]\n",
    "        self.X_val = hyp[\"X_val\"]\n",
    "        self.y_train = hyp[\"y_train\"]\n",
    "        self.y_val = hyp[\"y_val\"]\n",
    "        self.name = hyp[\"name\"]\n",
    "\n",
    "        # set optional hyperparameters with default arguments\n",
    "        self.learning_rate = hyp.get(\"learning_rate\", 3e-4)     # use Alex's favorite: https://twitter.com/karpathy/status/801621764144971776?lang=en\n",
    "        self.hidden_dim = hyp.get(\"hidden_dim\", 64)             # hidden layer width in FC\n",
    "        self.dropout = hyp.get(\"dropout\", 0)                    # don't use dropout unless we overfit\n",
    "        self.max_epochs = hyp.get(\"max_epochs\", 1)              # number of epochs to fine-tune\n",
    "        self.batch_size = hyp.get(\"batch_size\", 32)             # start here, as per: https://stats.stackexchange.com/questions/164876/what-is-the-trade-off-between-batch-size-and-number-of-iterations-to-train-a-neu\n",
    "        self.num_workers = hyp.get(\"num_workers\", 0)            # default to 0 on windows: https://discuss.pytorch.org/t/errors-when-using-num-workers-0-in-dataloader/97564/4\n",
    "\n",
    "        # set path where model is saved\n",
    "        self.output_path = Path.cwd() / hyp.get(\"output_path\", \"models\") / self.name\n",
    "        self.output_path.mkdir(exist_ok=True)\n",
    "\n",
    "        # set up logging\n",
    "        self.log_path = Path.cwd() / hyp.get(\"log_path\", \"logs\") / self.name\n",
    "        self.log_path.mkdir(exist_ok=True)\n",
    "\n",
    "        # construct datasets and model\n",
    "        self.train_dataset = DatasetTS(self.X_train, self.y_train)\n",
    "        self.val_dataset = DatasetTS(self.X_val, self.y_val)\n",
    "        self.model = self.init_model()\n",
    "\n",
    "    @abstractmethod\n",
    "    def init_model(self):\n",
    "        # to be implemented by subclass defining model architecture\n",
    "        pass\n",
    "\n",
    "    def forward(self, img):\n",
    "        return self.model(img)\n",
    "\n",
    "    def training_step(self, batch, batch_idx):\n",
    "        X, y = batch[\"image\"], batch[\"label\"]\n",
    "        criterion = RMSELoss()\n",
    "        loss = criterion(y_hat=self.model.train().forward(X).squeeze(),     # use model train mode\n",
    "                         y_true=y.type(torch.FloatTensor))\n",
    "        self.log(\"train_loss\", loss, on_step=True, on_epoch=True, prog_bar=True, logger=True)\n",
    "        return {\"loss\": loss}\n",
    "\n",
    "    def validation_step(self, batch, batch_idx):\n",
    "        X, y = batch[\"image\"], batch[\"label\"]\n",
    "        criterion = RMSELoss()\n",
    "        loss = criterion(y_hat=self.model.eval().forward(X).squeeze(),      # use model eval mode\n",
    "                         y_true=y.type(torch.FloatTensor))\n",
    "        self.log(\"val_loss\", loss, on_step=True, on_epoch=True, prog_bar=True, logger=True)\n",
    "        return {\"batch_val_loss\": loss}\n",
    "\n",
    "    def train_dataloader(self):\n",
    "        return DataLoader(self.train_dataset, num_workers=self.num_workers, batch_size=self.batch_size)\n",
    "\n",
    "    def val_dataloader(self):\n",
    "        return DataLoader(self.val_dataset, num_workers=self.num_workers, batch_size=self.batch_size)\n",
    "\n",
    "    def configure_optimizers(self):\n",
    "        # use Adam with weight decay as per: https://www.fast.ai/2018/07/02/adam-weight-decay/\n",
    "        return torch.optim.AdamW(self.model.parameters(), lr=self.learning_rate)\n",
    "\n",
    "    def training_epoch_end(self, outputs):\n",
    "        avg_train_loss = torch.stack(tuple(output[\"loss\"] for output in outputs)).mean()\n",
    "        self.log(\"avg_epoch_train_loss\", avg_train_loss)\n",
    "        # d = {\"avg_epoch_train_loss\": avg_train_loss}\n",
    "        # return {**d, \"progress_bar\": d, \"log\": d}\n",
    "\n",
    "    def validation_epoch_end(self, outputs):\n",
    "        avg_val_loss = torch.stack(tuple(output[\"batch_val_loss\"] for output in outputs)).mean()\n",
    "        self.log(\"avg_epoch_val_loss\", avg_val_loss)\n",
    "        # d = {\"avg_epoch_val_loss\": avg_val_loss}\n",
    "        # return {**d, \"progress_bar\": d, \"log\": d}\n",
    "\n",
    "    def fit(self):\n",
    "        # see https://pytorch-lightning.readthedocs.io/en/latest/api/pytorch_lightning.trainer.trainer.html#pytorch_lightning.trainer.trainer.Trainer\n",
    "        self.trainer = pl.Trainer(\n",
    "            max_epochs=self.max_epochs,\n",
    "            default_root_dir=self.output_path,\n",
    "            logger=TensorBoardLogger(save_dir=self.log_path),\n",
    "            log_every_n_steps=self.hyp.get(\"log_every_n_steps\", 5),\n",
    "            checkpoint_callback=True,\n",
    "            callbacks=pl.callbacks.ModelCheckpoint(\n",
    "                dirpath=self.output_path,\n",
    "                monitor=\"avg_epoch_val_loss\",\n",
    "                mode=\"min\",\n",
    "                verbose=True,\n",
    "            ),\n",
    "            gradient_clip_val=self.hyp.get(\"gradient_clip_val\", 1),\n",
    "            num_sanity_val_steps=self.hyp.get(\"val_sanity_checks\", 0),\n",
    "        )\n",
    "        self.trainer.fit(self)\n",
    "\n",
    "    @torch.no_grad()\n",
    "    def predict_wind_speed(self, X_test):\n",
    "        test_dataset = DatasetTS(X_test)\n",
    "        test_dataloader = DataLoader(test_dataset, num_workers=self.num_workers, batch_size=self.batch_size)\n",
    "        wind_speed_df = pd.DataFrame(index=X_test[\"image_id\"], columns=[\"wind_speed\"])\n",
    "\n",
    "        # predict windspeeds with progress bar wrapper\n",
    "        for batch in tqdm(test_dataloader, total=len(test_dataloader)):\n",
    "            X = batch[\"image\"]\n",
    "            y_hat = self.eval().forward(X)\n",
    "            y_hat = y_hat.detach().numpy().squeeze()\n",
    "            y_hat = np.clip(y_hat, a_min=0, a_max=200)      # don't predict ridiculous wind speeds\n",
    "            wind_speed_df.loc[batch[\"image_id\"], \"wind_speed\"] = y_hat\n",
    "\n",
    "        # cast to float type and return for evaluation\n",
    "        wind_speed_df[\"wind_speed\"] = wind_speed_df[\"wind_speed\"].astype(float)\n",
    "        return wind_speed_df"
   ],
   "metadata": {
    "collapsed": false,
    "pycharm": {
     "name": "#%%\n"
    }
   }
  },
  {
   "cell_type": "code",
   "execution_count": 12,
   "outputs": [
    {
     "name": "stdout",
     "output_type": "stream",
     "text": [
      "Models Downloaded.\n"
     ]
    }
   ],
   "source": [
    "# download pretrained models locally\n",
    "# save to cwd/models directory as per: https://stackoverflow.com/questions/52628270/is-there-any-way-i-can-download-the-pre-trained-models-available-in-pytorch-to-a\n",
    "models.resnet18(pretrained=True)\n",
    "models.squeezenet1_1(pretrained=True)\n",
    "models.shufflenet_v2_x1_0(pretrained=True)\n",
    "print(\"Models Downloaded.\")"
   ],
   "metadata": {
    "collapsed": false,
    "pycharm": {
     "name": "#%%\n"
    }
   }
  },
  {
   "cell_type": "code",
   "execution_count": 13,
   "outputs": [],
   "source": [
    "class TSResNet18(TSNet):\n",
    "    \"\"\"\n",
    "    Extend the TSNet base class for tropical storm wind prediction with a pretrained ResNet18.\n",
    "    Architectural details here: https://arxiv.org/pdf/1512.03385.pdf.\n",
    "    \"\"\"\n",
    "    def __init__(self, hyp):\n",
    "        hyp[\"name\"] = \"TSResNet18\"\n",
    "        super(TSResNet18, self).__init__(hyp)\n",
    "\n",
    "    def init_model(self):\n",
    "        resnet18 = models.resnet18(pretrained=True)\n",
    "        # drop classifier layer and construct 1-dim output FC\n",
    "        # see: https://pytorch.org/tutorials/beginner/finetuning_torchvision_models_tutorial.html#initialize-and-reshape-the-networks\n",
    "        resnet18.fc = nn.Sequential(\n",
    "            nn.Linear(512, self.hidden_dim),\n",
    "            nn.ReLU(inplace=True),\n",
    "            nn.Dropout(self.dropout),\n",
    "            nn.Linear(self.hidden_dim, 1),\n",
    "        )\n",
    "        return resnet18\n",
    "\n",
    "class TSSqueezeNet(TSNet):\n",
    "    \"\"\"\n",
    "    Extend the TSNet base class for tropical storm wind prediction with a pretrained SqueezeNet.\n",
    "    Architectural details here: https://arxiv.org/pdf/1602.07360.pdf.\n",
    "    \"\"\"\n",
    "    def __init__(self, hyp):\n",
    "        hyp[\"name\"] = \"TSSqueezeNet\"\n",
    "        super(TSSqueezeNet, self).__init__(hyp)\n",
    "\n",
    "    def init_model(self):\n",
    "        squeezenet = models.squeezenet1_1(pretrained=True)\n",
    "        # drop classifier layer and construct 1-dim output FC\n",
    "        # see: https://pytorch.org/tutorials/beginner/finetuning_torchvision_models_tutorial.html#initialize-and-reshape-the-networks\n",
    "        squeezenet.classifier = nn.Sequential(\n",
    "            # unlike other models used, squeezenet's classifier includes the\n",
    "            # last conv layer before linking to FC\n",
    "            nn.Dropout(self.dropout),\n",
    "            nn.Conv2d(512, 1, kernel_size=(1, 1), stride=(1, 1)),\n",
    "            nn.ReLU(inplace=True),\n",
    "            nn.AdaptiveAvgPool2d((1, 1)),\n",
    "        )\n",
    "        return squeezenet\n",
    "\n",
    "class TSShuffleNet(TSNet):\n",
    "    \"\"\"\n",
    "    Extend the TSNet base class for tropical storm wind prediction with a pretrained ShuffleNet.\n",
    "    Architectural details here: https://arxiv.org/pdf/1807.11164.pdf.\n",
    "    \"\"\"\n",
    "    def __init__(self, hyp):\n",
    "        hyp[\"name\"] = \"TSShuffleNet\"\n",
    "        super(TSShuffleNet, self).__init__(hyp)\n",
    "\n",
    "    def init_model(self):\n",
    "        shufflenet = models.shufflenet_v2_x1_0(pretrained=True)\n",
    "        # drop classifier layer and construct 1-dim output FC\n",
    "        # see: https://pytorch.org/tutorials/beginner/finetuning_torchvision_models_tutorial.html#initialize-and-reshape-the-networks\n",
    "        shufflenet.fc = nn.Sequential(\n",
    "            nn.Linear(1024, self.hidden_dim),\n",
    "            nn.ReLU(inplace=True),\n",
    "            nn.Dropout(self.dropout),\n",
    "            nn.Linear(self.hidden_dim, 1),\n",
    "        )\n",
    "        return shufflenet\n"
   ],
   "metadata": {
    "collapsed": false,
    "pycharm": {
     "name": "#%%\n"
    }
   }
  },
  {
   "cell_type": "markdown",
   "source": [
    "#### Fit Models to Subsampled Training and Validation\n",
    "\n",
    "Only fit models when `nb_mode == \"fit\"`."
   ],
   "metadata": {
    "collapsed": false,
    "pycharm": {
     "name": "#%% md\n"
    }
   }
  },
  {
   "cell_type": "code",
   "execution_count": 14,
   "outputs": [],
   "source": [
    "hyp = {\n",
    "    \"X_train\": X_train,\n",
    "    \"X_val\": X_val,\n",
    "    \"y_train\": y_train,\n",
    "    \"y_val\": y_val,\n",
    "    \"max_epochs\": 1,\n",
    "}\n"
   ],
   "metadata": {
    "collapsed": false,
    "pycharm": {
     "name": "#%%\n"
    }
   }
  },
  {
   "cell_type": "code",
   "execution_count": 15,
   "outputs": [],
   "source": [
    "if nb_mode == \"fit\":\n",
    "    ts_resnet18 = TSResNet18(hyp)\n",
    "    ts_resnet18.fit()\n",
    "\n",
    "    # save in case checkpointing fails\n",
    "    torch.save(ts_resnet18.state_dict(), Path.cwd() / \"models\" / \"TSResNet18\" / f\"{time.strftime('%Y_%m_%d_%H_%M_%S')}.pth\")"
   ],
   "metadata": {
    "collapsed": false,
    "pycharm": {
     "name": "#%%\n"
    }
   }
  },
  {
   "cell_type": "code",
   "execution_count": 16,
   "outputs": [],
   "source": [
    "if nb_mode == \"fit\":\n",
    "    ts_squeezenet = TSSqueezeNet(hyp)\n",
    "    ts_squeezenet.fit()\n",
    "\n",
    "    # save in case checkpointing fails\n",
    "    torch.save(ts_squeezenet.state_dict(), Path.cwd() / \"models\" / \"TSSqueezeNet\" / f\"{time.strftime('%Y_%m_%d_%H_%M_%S')}.pth\")"
   ],
   "metadata": {
    "collapsed": false,
    "pycharm": {
     "name": "#%%\n"
    }
   }
  },
  {
   "cell_type": "code",
   "execution_count": 17,
   "outputs": [],
   "source": [
    "if nb_mode == \"fit\":\n",
    "    ts_shufflenet = TSShuffleNet(hyp)\n",
    "    ts_shufflenet.fit()\n",
    "\n",
    "    # save in case checkpointing fails\n",
    "    torch.save(ts_shufflenet.state_dict(), Path.cwd() / \"models\" / \"TSShuffleNet\" / f\"{time.strftime('%Y_%m_%d_%H_%M_%S')}.pth\")"
   ],
   "metadata": {
    "collapsed": false,
    "pycharm": {
     "name": "#%%\n"
    }
   }
  },
  {
   "cell_type": "markdown",
   "source": [
    "#### Load Models from Previous Training\n",
    "\n",
    "Only load models when `nb_mode == \"eval\"`."
   ],
   "metadata": {
    "collapsed": false,
    "pycharm": {
     "name": "#%% md\n"
    }
   }
  },
  {
   "cell_type": "code",
   "execution_count": 18,
   "outputs": [],
   "source": [
    "def weights_update(model, checkpoint):\n",
    "    model_dict = model.state_dict()\n",
    "    pretrained_dict = {k: v for k, v in checkpoint['state_dict'].items() if k in model_dict}\n",
    "    model_dict.update(pretrained_dict)\n",
    "    model.load_state_dict(model_dict)\n",
    "    return model"
   ],
   "metadata": {
    "collapsed": false,
    "pycharm": {
     "name": "#%%\n"
    }
   }
  },
  {
   "cell_type": "code",
   "execution_count": 19,
   "outputs": [],
   "source": [
    "if nb_mode == \"eval\":\n",
    "    best_ts_resnet18 = \"epoch=0-step=312.ckpt\"\n",
    "    ts_resnet18_ckpt = torch.load(Path.cwd() / \"models\" / \"TSResNet18\" / best_ts_resnet18)\n",
    "    ts_resnet18 = weights_update(model=TSResNet18(hyp), checkpoint=ts_resnet18_ckpt)"
   ],
   "metadata": {
    "collapsed": false,
    "pycharm": {
     "name": "#%%\n"
    }
   }
  },
  {
   "cell_type": "code",
   "execution_count": 20,
   "outputs": [],
   "source": [
    "if nb_mode == \"eval\":\n",
    "    best_ts_squeezenet = \"epoch=1-step=625.ckpt\"\n",
    "    ts_squeezenet_ckpt = torch.load(Path.cwd() / \"models\" / \"TSSqueezeNet\" / best_ts_squeezenet)\n",
    "    ts_squeezenet = weights_update(model=TSSqueezeNet(hyp), checkpoint=ts_squeezenet_ckpt)"
   ],
   "metadata": {
    "collapsed": false,
    "pycharm": {
     "name": "#%%\n"
    }
   }
  },
  {
   "cell_type": "code",
   "execution_count": 21,
   "outputs": [],
   "source": [
    "if nb_mode == \"eval\":\n",
    "    best_ts_shufflenet = \"epoch=1-step=625.ckpt\"\n",
    "    ts_shufflenet_ckpt = torch.load(Path.cwd() / \"models\" / \"TSShuffleNet\" / best_ts_shufflenet)\n",
    "    ts_shufflenet = weights_update(model=TSShuffleNet(hyp), checkpoint=ts_shufflenet_ckpt)"
   ],
   "metadata": {
    "collapsed": false,
    "pycharm": {
     "name": "#%%\n"
    }
   }
  },
  {
   "cell_type": "markdown",
   "source": [
    "#### Evaluate Models"
   ],
   "metadata": {
    "collapsed": false,
    "pycharm": {
     "name": "#%% md\n"
    }
   }
  },
  {
   "cell_type": "code",
   "execution_count": 22,
   "outputs": [
    {
     "data": {
      "text/plain": "  0%|          | 0/32 [00:00<?, ?it/s]",
      "application/vnd.jupyter.widget-view+json": {
       "version_major": 2,
       "version_minor": 0,
       "model_id": "7a6b09b15ee4464fb032b52285621b2c"
      }
     },
     "metadata": {},
     "output_type": "display_data"
    }
   ],
   "source": [
    "y_ts_resnet18 = ts_resnet18.predict_wind_speed(test_features)"
   ],
   "metadata": {
    "collapsed": false,
    "pycharm": {
     "name": "#%%\n"
    }
   }
  },
  {
   "cell_type": "code",
   "execution_count": 23,
   "outputs": [
    {
     "data": {
      "text/plain": "  0%|          | 0/32 [00:00<?, ?it/s]",
      "application/vnd.jupyter.widget-view+json": {
       "version_major": 2,
       "version_minor": 0,
       "model_id": "c3accacbcb484a589f2990b6c3139783"
      }
     },
     "metadata": {},
     "output_type": "display_data"
    }
   ],
   "source": [
    "y_ts_squeezenet = ts_squeezenet.predict_wind_speed(test_features)"
   ],
   "metadata": {
    "collapsed": false,
    "pycharm": {
     "name": "#%%\n"
    }
   }
  },
  {
   "cell_type": "code",
   "execution_count": 24,
   "outputs": [
    {
     "data": {
      "text/plain": "  0%|          | 0/32 [00:00<?, ?it/s]",
      "application/vnd.jupyter.widget-view+json": {
       "version_major": 2,
       "version_minor": 0,
       "model_id": "10dc67bdadb84ff5b51cc8f0c3c65400"
      }
     },
     "metadata": {},
     "output_type": "display_data"
    }
   ],
   "source": [
    "y_ts_shufflenet = ts_shufflenet.predict_wind_speed(test_features)"
   ],
   "metadata": {
    "collapsed": false,
    "pycharm": {
     "name": "#%%\n"
    }
   }
  },
  {
   "cell_type": "code",
   "execution_count": 25,
   "outputs": [
    {
     "name": "stdout",
     "output_type": "stream",
     "text": [
      "TSResNet18:\n",
      "\tRMSE     = 11.85512456047676\n",
      "\tMAE      = 8.466182781219482\n",
      "\tPearsonR = 0.8751599884576547\n",
      "TSSqueezeNet:\n",
      "\tRMSE     = 11.780575821612507\n",
      "\tMAE      = 8.22048169517517\n",
      "\tPearsonR = 0.8794337831098971\n",
      "TSShuffleNet:\n",
      "\tRMSE     = 11.685615915688183\n",
      "\tMAE      = 8.350372329711915\n",
      "\tPearsonR = 0.8702519982151286\n"
     ]
    }
   ],
   "source": [
    "model_stats = []\n",
    "model_predictions = [(\"TSResNet18\", y_ts_resnet18),\n",
    "                     (\"TSSqueezeNet\", y_ts_squeezenet),\n",
    "                     (\"TSShuffleNet\", y_ts_shufflenet)]\n",
    "\n",
    "for name, y_hat in model_predictions:\n",
    "    rmse = mean_squared_error(y_hat[\"wind_speed\"], test_labels[\"wind_speed\"], squared=False)\n",
    "    mae = mean_absolute_error(y_hat[\"wind_speed\"], test_labels[\"wind_speed\"])\n",
    "    rho = pearsonr(y_hat[\"wind_speed\"], test_labels[\"wind_speed\"])[0]\n",
    "\n",
    "    model_stats.append({\n",
    "        \"name\": name, \"rmse\": rmse, \"mae\": mae, \"pearsonr\": rho,\n",
    "        **pd.DataFrame(y_hat).describe()[\"wind_speed\"].to_dict()        # get distribution stats\n",
    "    })\n",
    "\n",
    "    print(f\"{name}:\")\n",
    "    print(f\"\\tRMSE     = {rmse}\")\n",
    "    print(f\"\\tMAE      = {mae}\")\n",
    "    print(f\"\\tPearsonR = {rho}\")"
   ],
   "metadata": {
    "collapsed": false,
    "pycharm": {
     "name": "#%%\n"
    }
   }
  },
  {
   "cell_type": "code",
   "execution_count": 26,
   "outputs": [
    {
     "data": {
      "text/plain": "                   0             1             2\nname      TSResNet18  TSSqueezeNet  TSShuffleNet\nrmse       11.855125     11.780576     11.685616\nmae         8.466183      8.220482      8.350372\npearsonr     0.87516      0.879434      0.870252\ncount         1000.0        1000.0        1000.0\nmean        42.05335     42.147305     43.984505\nstd        21.077466     18.716322     19.071808\nmin        21.464493     20.189493     18.159658\n25%        27.265583      28.68371     30.949636\n50%        35.270489     36.191402      37.58699\n75%        47.681494     49.786716     51.146247\nmax       120.734764    118.938103    129.451294",
      "text/html": "<div>\n<style scoped>\n    .dataframe tbody tr th:only-of-type {\n        vertical-align: middle;\n    }\n\n    .dataframe tbody tr th {\n        vertical-align: top;\n    }\n\n    .dataframe thead th {\n        text-align: right;\n    }\n</style>\n<table border=\"1\" class=\"dataframe\">\n  <thead>\n    <tr style=\"text-align: right;\">\n      <th></th>\n      <th>0</th>\n      <th>1</th>\n      <th>2</th>\n    </tr>\n  </thead>\n  <tbody>\n    <tr>\n      <th>name</th>\n      <td>TSResNet18</td>\n      <td>TSSqueezeNet</td>\n      <td>TSShuffleNet</td>\n    </tr>\n    <tr>\n      <th>rmse</th>\n      <td>11.855125</td>\n      <td>11.780576</td>\n      <td>11.685616</td>\n    </tr>\n    <tr>\n      <th>mae</th>\n      <td>8.466183</td>\n      <td>8.220482</td>\n      <td>8.350372</td>\n    </tr>\n    <tr>\n      <th>pearsonr</th>\n      <td>0.87516</td>\n      <td>0.879434</td>\n      <td>0.870252</td>\n    </tr>\n    <tr>\n      <th>count</th>\n      <td>1000.0</td>\n      <td>1000.0</td>\n      <td>1000.0</td>\n    </tr>\n    <tr>\n      <th>mean</th>\n      <td>42.05335</td>\n      <td>42.147305</td>\n      <td>43.984505</td>\n    </tr>\n    <tr>\n      <th>std</th>\n      <td>21.077466</td>\n      <td>18.716322</td>\n      <td>19.071808</td>\n    </tr>\n    <tr>\n      <th>min</th>\n      <td>21.464493</td>\n      <td>20.189493</td>\n      <td>18.159658</td>\n    </tr>\n    <tr>\n      <th>25%</th>\n      <td>27.265583</td>\n      <td>28.68371</td>\n      <td>30.949636</td>\n    </tr>\n    <tr>\n      <th>50%</th>\n      <td>35.270489</td>\n      <td>36.191402</td>\n      <td>37.58699</td>\n    </tr>\n    <tr>\n      <th>75%</th>\n      <td>47.681494</td>\n      <td>49.786716</td>\n      <td>51.146247</td>\n    </tr>\n    <tr>\n      <th>max</th>\n      <td>120.734764</td>\n      <td>118.938103</td>\n      <td>129.451294</td>\n    </tr>\n  </tbody>\n</table>\n</div>"
     },
     "execution_count": 26,
     "metadata": {},
     "output_type": "execute_result"
    }
   ],
   "source": [
    "model_stats_df = pd.DataFrame(model_stats).T\n",
    "model_stats_df.to_csv(Path.cwd() / \"logs\" / f\"model_stats_{time.strftime('%Y_%m_%d_%H_%M_%S')}.csv\")\n",
    "model_stats_df"
   ],
   "metadata": {
    "collapsed": false,
    "pycharm": {
     "name": "#%%\n"
    }
   }
  },
  {
   "cell_type": "code",
   "execution_count": 29,
   "outputs": [
    {
     "data": {
      "text/plain": "<Figure size 864x324 with 3 Axes>",
      "image/png": "[encoded data removed]"
     },
     "metadata": {
      "needs_background": "light"
     },
     "output_type": "display_data"
    }
   ],
   "source": [
    "fig, ax = plt.subplots(1, len(model_predictions), figsize=(12, 4.5))\n",
    "for i, (name, y_hat) in enumerate(model_predictions):\n",
    "    y, yh = test_labels[\"wind_speed\"], y_hat[\"wind_speed\"]\n",
    "    ax[i].scatter(y, yh, c=((y.ravel() - yh.ravel())**2)**0.5)\n",
    "    ax[i].plot(y, y, c=\"k\")\n",
    "    ax[i].set_xlabel(\"Truth\")\n",
    "    ax[i].set_ylabel(\"Prediction\")\n",
    "    ax[i].set_title(name)\n",
    "fig.suptitle(f\"Wind Speed Predictions\")\n",
    "\n",
    "fig.tight_layout()\n",
    "fig.savefig(Path.cwd() / \"logs\" / f\"model_performance_{time.strftime('%Y_%m_%d_%H_%M_%S')}.png\")\n",
    "plt.show()\n"
   ],
   "metadata": {
    "collapsed": false,
    "pycharm": {
     "name": "#%%\n"
    }
   }
  }
 ],
 "metadata": {
  "kernelspec": {
   "display_name": "Python 3",
   "language": "python",
   "name": "python3"
  },
  "language_info": {
   "codemirror_mode": {
    "name": "ipython",
    "version": 2
   },
   "file_extension": ".py",
   "mimetype": "text/x-python",
   "name": "python",
   "nbconvert_exporter": "python",
   "pygments_lexer": "ipython2",
   "version": "2.7.6"
  }
 },
 "nbformat": 4,
 "nbformat_minor": 0
}